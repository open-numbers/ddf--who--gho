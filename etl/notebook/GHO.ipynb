{
 "cells": [
  {
   "cell_type": "code",
   "execution_count": 1,
   "metadata": {},
   "outputs": [],
   "source": [
    "import pandas as pd\n",
    "import xmltodict\n",
    "import requests\n",
    "import os\n",
    "import numpy as np"
   ]
  },
  {
   "cell_type": "code",
   "execution_count": 2,
   "metadata": {},
   "outputs": [],
   "source": [
    "#import ddf_utils.ddf_reader as ddf\n",
    "from ddf_utils.str import to_concept_id"
   ]
  },
  {
   "cell_type": "markdown",
   "metadata": {},
   "source": [
    "# get all meta data"
   ]
  },
  {
   "cell_type": "code",
   "execution_count": 3,
   "metadata": {},
   "outputs": [],
   "source": [
    "api = 'http://apps.who.int/gho/athena/api/'"
   ]
  },
  {
   "cell_type": "code",
   "execution_count": 4,
   "metadata": {},
   "outputs": [],
   "source": [
    "xml = requests.get(api)"
   ]
  },
  {
   "cell_type": "code",
   "execution_count": 5,
   "metadata": {},
   "outputs": [],
   "source": [
    "xml = xml.content"
   ]
  },
  {
   "cell_type": "code",
   "execution_count": 6,
   "metadata": {},
   "outputs": [],
   "source": [
    "p = xmltodict.parse(xml)"
   ]
  },
  {
   "cell_type": "code",
   "execution_count": 7,
   "metadata": {},
   "outputs": [
    {
     "data": {
      "text/plain": [
       "OrderedDict([('@Label', 'COMMENT'),\n",
       "             ('@EntityType', 'CORE_DIMENSION'),\n",
       "             ('@Entity', 'DATASOURCE'),\n",
       "             ('Display', 'COMMENT')])"
      ]
     },
     "execution_count": 7,
     "metadata": {},
     "output_type": "execute_result"
    }
   ],
   "source": [
    "p['GHO']['Metadata']['Attribute'][0]"
   ]
  },
  {
   "cell_type": "code",
   "execution_count": null,
   "metadata": {
    "collapsed": true
   },
   "outputs": [],
   "source": []
  },
  {
   "cell_type": "markdown",
   "metadata": {},
   "source": [
    "# get all indicators"
   ]
  },
  {
   "cell_type": "code",
   "execution_count": 8,
   "metadata": {},
   "outputs": [],
   "source": [
    "# import asyncio"
   ]
  },
  {
   "cell_type": "code",
   "execution_count": 8,
   "metadata": {},
   "outputs": [],
   "source": [
    "inds = 'http://apps.who.int/gho/athena/api/GHO/'\n",
    "xml = requests.get(inds)\n",
    "xml = xml.content"
   ]
  },
  {
   "cell_type": "code",
   "execution_count": 9,
   "metadata": {},
   "outputs": [],
   "source": [
    "indi = xmltodict.parse(xml)"
   ]
  },
  {
   "cell_type": "code",
   "execution_count": 10,
   "metadata": {},
   "outputs": [],
   "source": [
    "indi_list = []\n",
    "\n",
    "for i in indi['GHO']['Metadata']['Dimension']['Code']:\n",
    "#     print(i)\n",
    "    indi_list.append(i['@Label'])"
   ]
  },
  {
   "cell_type": "code",
   "execution_count": 12,
   "metadata": {},
   "outputs": [
    {
     "data": {
      "text/plain": [
       "2796"
      ]
     },
     "execution_count": 12,
     "metadata": {},
     "output_type": "execute_result"
    }
   ],
   "source": [
    "len(indi_list)"
   ]
  },
  {
   "cell_type": "code",
   "execution_count": 14,
   "metadata": {},
   "outputs": [],
   "source": [
    "!open ../"
   ]
  },
  {
   "cell_type": "code",
   "execution_count": 13,
   "metadata": {},
   "outputs": [],
   "source": [
    "failed = []\n",
    "successed = []"
   ]
  },
  {
   "cell_type": "code",
   "execution_count": 16,
   "metadata": {},
   "outputs": [],
   "source": [
    "def download(i):\n",
    "    url = 'http://apps.who.int/gho/athena/data/data-coded.csv?target=GHO/{}'.format(i)\n",
    "    try:\n",
    "        df = pd.read_csv(url)\n",
    "        df.to_csv('../source/{}.csv'.format(i))\n",
    "    except:\n",
    "        failed.append(i)\n",
    "    successed.append(i)"
   ]
  },
  {
   "cell_type": "code",
   "execution_count": null,
   "metadata": {},
   "outputs": [],
   "source": [
    "# pool_size = 5"
   ]
  },
  {
   "cell_type": "code",
   "execution_count": 14,
   "metadata": {},
   "outputs": [],
   "source": [
    "# @asyncio.coroutine\n",
    "# def run_download():\n",
    "#     todos = [x for x in indi_list if x not in successed]\n",
    "#     s = 0\n",
    "#     while s + pool_size < len(todos): \n",
    "#         for t in todos[s:s+pool_size]:\n",
    "#             yield from download(t)\n",
    "#         s = s + pool_size\n",
    "#     for t in todos[s:]:\n",
    "#             yield from download(t)"
   ]
  },
  {
   "cell_type": "code",
   "execution_count": null,
   "metadata": {},
   "outputs": [],
   "source": []
  },
  {
   "cell_type": "code",
   "execution_count": 17,
   "metadata": {},
   "outputs": [
    {
     "data": {
      "text/plain": [
       "OrderedDict([('@Label', 'GBD_0000000038'),\n",
       "             ('@DisplaySequence', '0'),\n",
       "             ('@URL',\n",
       "              'http://apps.who.int/gho/indicatorregistry/App_Main/view_indicator.aspx?iid=3367'),\n",
       "             ('Attr',\n",
       "              [OrderedDict([('@Category', 'DEFINITION_XML'),\n",
       "                            ('Value',\n",
       "                             OrderedDict([('Display',\n",
       "                                           'http://apps.who.int/gho/indicatorregistryservice/publicapiservice.asmx/IndicatorGetAsXml?profileCode=WHO&applicationCode=System&languageAlpha2=en&indicatorId=3367')]))]),\n",
       "               OrderedDict([('@Category', 'CATEGORY'),\n",
       "                            ('Value',\n",
       "                             OrderedDict([('Display',\n",
       "                                           'Mortality and global health estimates')]))])]),\n",
       "             ('Display', 'GBD - crude death rate')])"
      ]
     },
     "execution_count": 17,
     "metadata": {},
     "output_type": "execute_result"
    }
   ],
   "source": [
    "indi['GHO']['Metadata']['Dimension']['Code'][33]"
   ]
  },
  {
   "cell_type": "code",
   "execution_count": 18,
   "metadata": {},
   "outputs": [],
   "source": [
    "indi_desc_list = []\n",
    "links = []\n",
    "\n",
    "for i in indi['GHO']['Metadata']['Dimension']['Code']:\n",
    "    indi_desc_list.append(i['Display'])\n",
    "    if '@URL' in i:\n",
    "        links.append(i['@URL'])\n",
    "    else:\n",
    "        links.append(None)"
   ]
  },
  {
   "cell_type": "code",
   "execution_count": 20,
   "metadata": {},
   "outputs": [
    {
     "data": {
      "text/plain": [
       "['Infant mortality rate (probability of dying between birth and age 1 per 1000 live births)',\n",
       " 'Adolescent birth rate (per 1000 women aged 15-19 years)',\n",
       " 'Contraceptive prevalence (%)',\n",
       " 'Unmet need for family planning (%)',\n",
       " 'Under-five mortality rate (probability of dying by age 5 per 1000 live births)',\n",
       " 'Median availability of selected generic medicines (%) - Public',\n",
       " 'Median consumer price ratio of selected generic medicines - Public',\n",
       " 'Antiretroviral therapy coverage among people with advanced HIV infection (%)',\n",
       " 'Children aged <5 years sleeping under insecticide-treated nets (%)',\n",
       " 'Children aged <5 years with fever who received treatment with any antimalarial (%)']"
      ]
     },
     "execution_count": 20,
     "metadata": {},
     "output_type": "execute_result"
    }
   ],
   "source": [
    "indi_desc_list[:10]"
   ]
  },
  {
   "cell_type": "code",
   "execution_count": 21,
   "metadata": {},
   "outputs": [
    {
     "data": {
      "text/plain": [
       "['http://apps.who.int/gho/indicatorregistry/App_Main/view_indicator.aspx?iid=1',\n",
       " 'http://apps.who.int/gho/indicatorregistry/App_Main/view_indicator.aspx?iid=4669',\n",
       " 'http://apps.who.int/gho/indicatorregistry/App_Main/view_indicator.aspx?iid=5',\n",
       " 'http://apps.who.int/gho/indicatorregistry/App_Main/view_indicator.aspx?iid=6',\n",
       " 'http://apps.who.int/gho/indicatorregistry/App_Main/view_indicator.aspx?iid=7',\n",
       " 'http://apps.who.int/gho/indicatorregistry/App_Main/view_indicator.aspx?iid=10',\n",
       " 'http://apps.who.int/gho/indicatorregistry/App_Main/view_indicator.aspx?iid=11',\n",
       " 'http://apps.who.int/gho/indicatorregistry/App_Main/view_indicator.aspx?iid=12',\n",
       " 'http://apps.who.int/gho/indicatorregistry/App_Main/view_indicator.aspx?iid=13',\n",
       " 'http://apps.who.int/gho/indicatorregistry/App_Main/view_indicator.aspx?iid=14']"
      ]
     },
     "execution_count": 21,
     "metadata": {},
     "output_type": "execute_result"
    }
   ],
   "source": [
    "links[:10]"
   ]
  },
  {
   "cell_type": "code",
   "execution_count": 15,
   "metadata": {},
   "outputs": [],
   "source": [
    "conc = pd.DataFrame([], columns=['concept', 'concept_type', 'description'])"
   ]
  },
  {
   "cell_type": "code",
   "execution_count": 16,
   "metadata": {},
   "outputs": [],
   "source": [
    "conc['concept'] = indi_list\n",
    "conc['description'] = indi_desc_list"
   ]
  },
  {
   "cell_type": "code",
   "execution_count": 14,
   "metadata": {},
   "outputs": [],
   "source": [
    "conc['concept_type'] = 'measure'"
   ]
  },
  {
   "cell_type": "code",
   "execution_count": 31,
   "metadata": {
    "collapsed": true
   },
   "outputs": [],
   "source": [
    "conc.to_csv('../../ddf--concepts--continuous.csv', index=False)"
   ]
  },
  {
   "cell_type": "code",
   "execution_count": 122,
   "metadata": {
    "collapsed": true
   },
   "outputs": [],
   "source": [
    "!open ."
   ]
  },
  {
   "cell_type": "code",
   "execution_count": null,
   "metadata": {
    "collapsed": true
   },
   "outputs": [],
   "source": []
  },
  {
   "cell_type": "code",
   "execution_count": 88,
   "metadata": {
    "collapsed": true
   },
   "outputs": [],
   "source": [
    "# inds = pd.read_csv('all_indicators.csv')"
   ]
  },
  {
   "cell_type": "code",
   "execution_count": 22,
   "metadata": {},
   "outputs": [],
   "source": [
    "conc_ = pd.DataFrame([], columns=['concept', 'description', 'size', 'link'])\n",
    "conc_['concept'] = indi_list\n",
    "conc_['description'] = indi_desc_list\n",
    "conc_['link'] = links"
   ]
  },
  {
   "cell_type": "code",
   "execution_count": null,
   "metadata": {},
   "outputs": [],
   "source": []
  },
  {
   "cell_type": "code",
   "execution_count": 26,
   "metadata": {
    "scrolled": true
   },
   "outputs": [
    {
     "name": "stdout",
     "output_type": "stream",
     "text": [
      "../source/ebreast5.csv\n",
      "../source/itnpreg.csv\n",
      "../source/pncall5.csv\n",
      "../source/pnchome5.csv\n",
      "../source/sba5.csv\n",
      "../source/uweight3.csv\n",
      "../source/tfr.csv\n",
      "../source/u5mr.csv\n",
      "../source/SA_0000001699.csv\n",
      "../source/SA_0000001701.csv\n",
      "../source/SA_0000001708.csv\n",
      "../source/SA_0000001715.csv\n",
      "../source/MEDS5070100.csv\n",
      "../source/PercposSW.csv\n",
      "../source/PercposMSM.csv\n",
      "../source/HIV_0000000026.csv\n",
      "../source/RS_239.csv\n",
      "../source/RS_240.csv\n",
      "../source/RS_241.csv\n",
      "../source/WHS_PBR.csv\n",
      "../source/MEDS1_01_01.csv\n",
      "../source/MEDS1_01_03.csv\n",
      "../source/MEDS1_01_05.csv\n",
      "../source/MEDS1_02_12.csv\n",
      "../source/MEDS1_02_13.csv\n",
      "../source/MEDS1_02_16.csv\n",
      "../source/MEDS8_02_14.csv\n",
      "../source/CCO_1.csv\n",
      "../source/MEDS2_01_15_02_01.csv\n",
      "../source/MEDS8_01_12_01.csv\n",
      "../source/M_Est_cig_daily.csv\n",
      "../source/M_survey_title_adult.csv\n",
      "../source/M_svy_age_adult.csv\n",
      "../source/M_def_1_prev_adult.csv\n",
      "../source/IR_INSECTICIDERESISTANCE_PREV.csv\n",
      "../source/IR_ORGANOCHLORINE_PRESENCE.csv\n",
      "../source/IR_ORGANOPHOSPHATE_PRESENCE.csv\n",
      "../source/IR_ORGANOCHLORINE_EXTENT.csv\n",
      "../source/AIR_40.csv\n",
      "../source/NCD_CCS_Bronchodilators.csv\n",
      "../source/PREVANEMIA.csv\n",
      "../source/HRH_40.csv\n",
      "../source/SA_0000001750.csv\n",
      "../source/SA_0000001780.csv\n",
      "../source/W1_HW_law_B.csv\n",
      "../source/W4_pc_back_B.csv\n",
      "../source/W15_specific_hw_B.csv\n",
      "../source/W11_outside_pack_B.csv\n",
      "../source/W7_rotation_B.csv\n",
      "../source/W10_graphic_B.csv\n",
      "../source/W12_imports_dutyfree_B.csv\n",
      "../source/W17_fines_B.csv\n",
      "../source/W18_misleading_terms_B.csv\n",
      "../source/W20_flavours_B.csv\n",
      "../source/W21_emissions_quant_B.csv\n",
      "../source/W22_emissions_qual_B.csv\n",
      "../source/W24_exp_date_B.csv\n",
      "../source/E26_direct_ad_fines.csv\n",
      "../source/E27_indirect_ad_fines.csv\n",
      "../source/E23_subnat_complete_bans_exist.csv\n",
      "../source/R_Price_premium_estimate.csv\n",
      "../source/NUTRITION_WH_2.csv\n"
     ]
    },
    {
     "name": "stderr",
     "output_type": "stream",
     "text": [
      "/Users/semio/.pyenv/versions/3.6.5/Python.framework/Versions/3.6/lib/python3.6/site-packages/IPython/core/interactiveshell.py:2785: DtypeWarning: Columns (4,12) have mixed types. Specify dtype option on import or set low_memory=False.\n",
      "  interactivity=interactivity, compiler=compiler, result=result)\n"
     ]
    }
   ],
   "source": [
    "lens = []\n",
    "\n",
    "for i in conc_['concept'].values:\n",
    "    path = os.path.join('../source/', i+'.csv')\n",
    "    if os.path.exists(path):\n",
    "        try:\n",
    "            df = pd.read_csv(path)\n",
    "            lens.append(len(df))\n",
    "        except:\n",
    "            print(path)\n",
    "            lens.append(-1)\n",
    "    else:\n",
    "        lens.append(np.nan)"
   ]
  },
  {
   "cell_type": "code",
   "execution_count": 27,
   "metadata": {},
   "outputs": [],
   "source": [
    "conc_['size'] = lens"
   ]
  },
  {
   "cell_type": "code",
   "execution_count": 28,
   "metadata": {},
   "outputs": [],
   "source": [
    "conc_.to_csv('../all_indicators.csv', index=False)"
   ]
  },
  {
   "cell_type": "code",
   "execution_count": null,
   "metadata": {},
   "outputs": [],
   "source": []
  },
  {
   "cell_type": "code",
   "execution_count": 32,
   "metadata": {},
   "outputs": [
    {
     "name": "stderr",
     "output_type": "stream",
     "text": [
      "/usr/local/lib/python3.5/site-packages/IPython/core/interactiveshell.py:2723: DtypeWarning: Columns (11) have mixed types. Specify dtype option on import or set low_memory=False.\n",
      "  interactivity=interactivity, compiler=compiler, result=result)\n"
     ]
    }
   ],
   "source": [
    "dtype = []\n",
    "key = []\n",
    "\n",
    "for i in conc['concept'].values:\n",
    "    path = os.path.join('source', i+'.csv')\n",
    "    if os.path.exists(path):\n",
    "        try:\n",
    "            df = pd.read_csv(path)\n",
    "        except:\n",
    "            dtype.append(np.nan)\n",
    "            key.append(np.nan)\n",
    "            continue\n",
    "        \n",
    "        if len(df) == 0:\n",
    "            dtype.append(np.nan)\n",
    "            key.append(np.nan)\n",
    "            continue\n",
    "            \n",
    "        if np.all(df['Numeric'].isnull()) == True:\n",
    "            dtype.append('str')\n",
    "        else:\n",
    "            dtype.append('number')\n",
    "            \n",
    "        if 'COUNTRY' in df.columns:\n",
    "            key.append('country')\n",
    "        elif 'REGION' in df.columns:\n",
    "            key.append('region')\n",
    "        else:\n",
    "            key.append('unknow')\n",
    "        \n",
    "    else:\n",
    "        dtype.append(np.nan)\n",
    "        key.append(np.nan)"
   ]
  },
  {
   "cell_type": "code",
   "execution_count": 33,
   "metadata": {
    "collapsed": true
   },
   "outputs": [],
   "source": [
    "conc['length'] = lens"
   ]
  },
  {
   "cell_type": "code",
   "execution_count": 34,
   "metadata": {
    "collapsed": true
   },
   "outputs": [],
   "source": [
    "conc['data_key'] = key\n",
    "conc['data_type'] = dtype"
   ]
  },
  {
   "cell_type": "code",
   "execution_count": 36,
   "metadata": {
    "collapsed": true
   },
   "outputs": [],
   "source": [
    "conc[['concept', 'concept_type', 'length', 'data_key', 'data_type', 'description']].to_csv('all_indicators.csv', index=False)"
   ]
  },
  {
   "cell_type": "code",
   "execution_count": 38,
   "metadata": {},
   "outputs": [
    {
     "data": {
      "text/plain": [
       "array(['HRH_20', 'HRH_27', 'DEVICES12', 'DEVICES21', 'DEVICES22',\n",
       "       'WHS9_CBR', 'PerctestedANC', 'PercposANC', 'PercposSW',\n",
       "       'PercposMSM', 'MORT_700', 'GHE_DALYNUM', 'GHE_YLDNUM',\n",
       "       'GHE_YLDRATE', 'GHE_YLLNUM', 'GHE_YLLRATE', 'PerctreatedANC',\n",
       "       'csection', 'EMFLIMITPOWERDENSITY'], dtype=object)"
      ]
     },
     "execution_count": 38,
     "metadata": {},
     "output_type": "execute_result"
    }
   ],
   "source": [
    "conc[conc['length'] == -1]['concept'].values"
   ]
  },
  {
   "cell_type": "code",
   "execution_count": null,
   "metadata": {
    "collapsed": true
   },
   "outputs": [],
   "source": []
  },
  {
   "cell_type": "code",
   "execution_count": 118,
   "metadata": {},
   "outputs": [
    {
     "data": {
      "text/plain": [
       "array(['number', nan], dtype=object)"
      ]
     },
     "execution_count": 118,
     "metadata": {},
     "output_type": "execute_result"
    }
   ],
   "source": [
    "inds['data_type'].unique()"
   ]
  },
  {
   "cell_type": "code",
   "execution_count": 105,
   "metadata": {},
   "outputs": [
    {
     "name": "stdout",
     "output_type": "stream",
     "text": [
      "Camp_mat_tested\n"
     ]
    }
   ],
   "source": [
    "k = np.random.choice(inds['concept'].values)\n",
    "print(k)"
   ]
  },
  {
   "cell_type": "code",
   "execution_count": 74,
   "metadata": {
    "collapsed": true
   },
   "outputs": [],
   "source": [
    "k = 'MDG_0000000018'"
   ]
  },
  {
   "cell_type": "code",
   "execution_count": 75,
   "metadata": {},
   "outputs": [
    {
     "data": {
      "text/plain": [
       "13    Deaths due to tuberculosis among HIV-positive ...\n",
       "Name: description, dtype: object"
      ]
     },
     "execution_count": 75,
     "metadata": {},
     "output_type": "execute_result"
    }
   ],
   "source": [
    "conc[conc['concept'] == k]['description']"
   ]
  },
  {
   "cell_type": "code",
   "execution_count": 77,
   "metadata": {
    "scrolled": true
   },
   "outputs": [
    {
     "data": {
      "text/html": [
       "<div>\n",
       "<table border=\"1\" class=\"dataframe\">\n",
       "  <thead>\n",
       "    <tr style=\"text-align: right;\">\n",
       "      <th></th>\n",
       "      <th>GHO</th>\n",
       "      <th>PUBLISHSTATE</th>\n",
       "      <th>YEAR</th>\n",
       "      <th>REGION</th>\n",
       "      <th>WORLDBANKINCOMEGROUP</th>\n",
       "      <th>Display Value</th>\n",
       "      <th>Numeric</th>\n",
       "      <th>Low</th>\n",
       "      <th>High</th>\n",
       "      <th>Comments</th>\n",
       "    </tr>\n",
       "  </thead>\n",
       "  <tbody>\n",
       "    <tr>\n",
       "      <th>10</th>\n",
       "      <td>MDG_0000000018</td>\n",
       "      <td>PUBLISHED</td>\n",
       "      <td>2007</td>\n",
       "      <td>AFR</td>\n",
       "      <td>NaN</td>\n",
       "      <td>47.6</td>\n",
       "      <td>47.6</td>\n",
       "      <td>47.6</td>\n",
       "      <td>47.6</td>\n",
       "      <td>NaN</td>\n",
       "    </tr>\n",
       "    <tr>\n",
       "      <th>9</th>\n",
       "      <td>MDG_0000000018</td>\n",
       "      <td>PUBLISHED</td>\n",
       "      <td>2007</td>\n",
       "      <td>AMR</td>\n",
       "      <td>NaN</td>\n",
       "      <td>0.9</td>\n",
       "      <td>0.9</td>\n",
       "      <td>0.9</td>\n",
       "      <td>0.9</td>\n",
       "      <td>NaN</td>\n",
       "    </tr>\n",
       "    <tr>\n",
       "      <th>4</th>\n",
       "      <td>MDG_0000000018</td>\n",
       "      <td>PUBLISHED</td>\n",
       "      <td>2007</td>\n",
       "      <td>EMR</td>\n",
       "      <td>NaN</td>\n",
       "      <td>1.4</td>\n",
       "      <td>1.4</td>\n",
       "      <td>1.4</td>\n",
       "      <td>1.4</td>\n",
       "      <td>NaN</td>\n",
       "    </tr>\n",
       "    <tr>\n",
       "      <th>8</th>\n",
       "      <td>MDG_0000000018</td>\n",
       "      <td>PUBLISHED</td>\n",
       "      <td>2007</td>\n",
       "      <td>EUR</td>\n",
       "      <td>NaN</td>\n",
       "      <td>0.9</td>\n",
       "      <td>0.9</td>\n",
       "      <td>0.9</td>\n",
       "      <td>0.9</td>\n",
       "      <td>NaN</td>\n",
       "    </tr>\n",
       "    <tr>\n",
       "      <th>0</th>\n",
       "      <td>MDG_0000000018</td>\n",
       "      <td>PUBLISHED</td>\n",
       "      <td>2007</td>\n",
       "      <td>GLOBAL</td>\n",
       "      <td>NaN</td>\n",
       "      <td>6.8</td>\n",
       "      <td>6.8</td>\n",
       "      <td>6.8</td>\n",
       "      <td>6.8</td>\n",
       "      <td>NaN</td>\n",
       "    </tr>\n",
       "    <tr>\n",
       "      <th>1</th>\n",
       "      <td>MDG_0000000018</td>\n",
       "      <td>PUBLISHED</td>\n",
       "      <td>2007</td>\n",
       "      <td>NOTSPEC</td>\n",
       "      <td>WB_HI</td>\n",
       "      <td>0.1</td>\n",
       "      <td>0.1</td>\n",
       "      <td>0.1</td>\n",
       "      <td>0.1</td>\n",
       "      <td>NaN</td>\n",
       "    </tr>\n",
       "    <tr>\n",
       "      <th>2</th>\n",
       "      <td>MDG_0000000018</td>\n",
       "      <td>PUBLISHED</td>\n",
       "      <td>2007</td>\n",
       "      <td>NOTSPEC</td>\n",
       "      <td>WB_LI</td>\n",
       "      <td>21.1</td>\n",
       "      <td>21.1</td>\n",
       "      <td>21.1</td>\n",
       "      <td>21.1</td>\n",
       "      <td>NaN</td>\n",
       "    </tr>\n",
       "    <tr>\n",
       "      <th>3</th>\n",
       "      <td>MDG_0000000018</td>\n",
       "      <td>PUBLISHED</td>\n",
       "      <td>2007</td>\n",
       "      <td>NOTSPEC</td>\n",
       "      <td>WB_WORLD_INCOME</td>\n",
       "      <td>6.8</td>\n",
       "      <td>6.8</td>\n",
       "      <td>6.8</td>\n",
       "      <td>6.8</td>\n",
       "      <td>NaN</td>\n",
       "    </tr>\n",
       "    <tr>\n",
       "      <th>6</th>\n",
       "      <td>MDG_0000000018</td>\n",
       "      <td>PUBLISHED</td>\n",
       "      <td>2007</td>\n",
       "      <td>NOTSPEC</td>\n",
       "      <td>WB_UMI</td>\n",
       "      <td>12.9</td>\n",
       "      <td>12.9</td>\n",
       "      <td>12.9</td>\n",
       "      <td>12.9</td>\n",
       "      <td>NaN</td>\n",
       "    </tr>\n",
       "    <tr>\n",
       "      <th>11</th>\n",
       "      <td>MDG_0000000018</td>\n",
       "      <td>PUBLISHED</td>\n",
       "      <td>2007</td>\n",
       "      <td>NOTSPEC</td>\n",
       "      <td>WB_LMI</td>\n",
       "      <td>2.1</td>\n",
       "      <td>2.1</td>\n",
       "      <td>2.1</td>\n",
       "      <td>2.1</td>\n",
       "      <td>NaN</td>\n",
       "    </tr>\n",
       "    <tr>\n",
       "      <th>7</th>\n",
       "      <td>MDG_0000000018</td>\n",
       "      <td>PUBLISHED</td>\n",
       "      <td>2007</td>\n",
       "      <td>SEAR</td>\n",
       "      <td>NaN</td>\n",
       "      <td>2.3</td>\n",
       "      <td>2.3</td>\n",
       "      <td>2.3</td>\n",
       "      <td>2.3</td>\n",
       "      <td>NaN</td>\n",
       "    </tr>\n",
       "    <tr>\n",
       "      <th>5</th>\n",
       "      <td>MDG_0000000018</td>\n",
       "      <td>PUBLISHED</td>\n",
       "      <td>2007</td>\n",
       "      <td>WPR</td>\n",
       "      <td>NaN</td>\n",
       "      <td>0.8</td>\n",
       "      <td>0.8</td>\n",
       "      <td>0.8</td>\n",
       "      <td>0.8</td>\n",
       "      <td>NaN</td>\n",
       "    </tr>\n",
       "  </tbody>\n",
       "</table>\n",
       "</div>"
      ],
      "text/plain": [
       "               GHO PUBLISHSTATE  YEAR   REGION WORLDBANKINCOMEGROUP  \\\n",
       "10  MDG_0000000018    PUBLISHED  2007      AFR                  NaN   \n",
       "9   MDG_0000000018    PUBLISHED  2007      AMR                  NaN   \n",
       "4   MDG_0000000018    PUBLISHED  2007      EMR                  NaN   \n",
       "8   MDG_0000000018    PUBLISHED  2007      EUR                  NaN   \n",
       "0   MDG_0000000018    PUBLISHED  2007   GLOBAL                  NaN   \n",
       "1   MDG_0000000018    PUBLISHED  2007  NOTSPEC                WB_HI   \n",
       "2   MDG_0000000018    PUBLISHED  2007  NOTSPEC                WB_LI   \n",
       "3   MDG_0000000018    PUBLISHED  2007  NOTSPEC      WB_WORLD_INCOME   \n",
       "6   MDG_0000000018    PUBLISHED  2007  NOTSPEC               WB_UMI   \n",
       "11  MDG_0000000018    PUBLISHED  2007  NOTSPEC               WB_LMI   \n",
       "7   MDG_0000000018    PUBLISHED  2007     SEAR                  NaN   \n",
       "5   MDG_0000000018    PUBLISHED  2007      WPR                  NaN   \n",
       "\n",
       "    Display Value  Numeric   Low  High  Comments  \n",
       "10           47.6     47.6  47.6  47.6       NaN  \n",
       "9             0.9      0.9   0.9   0.9       NaN  \n",
       "4             1.4      1.4   1.4   1.4       NaN  \n",
       "8             0.9      0.9   0.9   0.9       NaN  \n",
       "0             6.8      6.8   6.8   6.8       NaN  \n",
       "1             0.1      0.1   0.1   0.1       NaN  \n",
       "2            21.1     21.1  21.1  21.1       NaN  \n",
       "3             6.8      6.8   6.8   6.8       NaN  \n",
       "6            12.9     12.9  12.9  12.9       NaN  \n",
       "11            2.1      2.1   2.1   2.1       NaN  \n",
       "7             2.3      2.3   2.3   2.3       NaN  \n",
       "5             0.8      0.8   0.8   0.8       NaN  "
      ]
     },
     "execution_count": 77,
     "metadata": {},
     "output_type": "execute_result"
    }
   ],
   "source": [
    "df = pd.read_csv('source/{}.csv'.format(k))\n",
    "df.sort_values(by=['REGION', 'YEAR'])"
   ]
  },
  {
   "cell_type": "code",
   "execution_count": null,
   "metadata": {
    "collapsed": true
   },
   "outputs": [],
   "source": [
    "ddf.SEARCH_PATH = '/Users/semio/src/work/Gapminder/'"
   ]
  },
  {
   "cell_type": "code",
   "execution_count": 73,
   "metadata": {},
   "outputs": [
    {
     "data": {
      "text/html": [
       "<div>\n",
       "<table border=\"1\" class=\"dataframe\">\n",
       "  <thead>\n",
       "    <tr style=\"text-align: right;\">\n",
       "      <th></th>\n",
       "      <th>geo</th>\n",
       "      <th>tb_with_hivplus_number_of_new_cases_estimated</th>\n",
       "      <th>time</th>\n",
       "    </tr>\n",
       "  </thead>\n",
       "  <tbody>\n",
       "    <tr>\n",
       "      <th>72</th>\n",
       "      <td>ago</td>\n",
       "      <td>595</td>\n",
       "      <td>1990</td>\n",
       "    </tr>\n",
       "    <tr>\n",
       "      <th>73</th>\n",
       "      <td>ago</td>\n",
       "      <td>772</td>\n",
       "      <td>1991</td>\n",
       "    </tr>\n",
       "    <tr>\n",
       "      <th>74</th>\n",
       "      <td>ago</td>\n",
       "      <td>992</td>\n",
       "      <td>1992</td>\n",
       "    </tr>\n",
       "    <tr>\n",
       "      <th>75</th>\n",
       "      <td>ago</td>\n",
       "      <td>1262</td>\n",
       "      <td>1993</td>\n",
       "    </tr>\n",
       "    <tr>\n",
       "      <th>76</th>\n",
       "      <td>ago</td>\n",
       "      <td>1585</td>\n",
       "      <td>1994</td>\n",
       "    </tr>\n",
       "    <tr>\n",
       "      <th>77</th>\n",
       "      <td>ago</td>\n",
       "      <td>1963</td>\n",
       "      <td>1995</td>\n",
       "    </tr>\n",
       "    <tr>\n",
       "      <th>78</th>\n",
       "      <td>ago</td>\n",
       "      <td>2399</td>\n",
       "      <td>1996</td>\n",
       "    </tr>\n",
       "    <tr>\n",
       "      <th>79</th>\n",
       "      <td>ago</td>\n",
       "      <td>2890</td>\n",
       "      <td>1997</td>\n",
       "    </tr>\n",
       "    <tr>\n",
       "      <th>80</th>\n",
       "      <td>ago</td>\n",
       "      <td>3434</td>\n",
       "      <td>1998</td>\n",
       "    </tr>\n",
       "    <tr>\n",
       "      <th>81</th>\n",
       "      <td>ago</td>\n",
       "      <td>4030</td>\n",
       "      <td>1999</td>\n",
       "    </tr>\n",
       "    <tr>\n",
       "      <th>82</th>\n",
       "      <td>ago</td>\n",
       "      <td>4668</td>\n",
       "      <td>2000</td>\n",
       "    </tr>\n",
       "    <tr>\n",
       "      <th>83</th>\n",
       "      <td>ago</td>\n",
       "      <td>5318</td>\n",
       "      <td>2001</td>\n",
       "    </tr>\n",
       "    <tr>\n",
       "      <th>84</th>\n",
       "      <td>ago</td>\n",
       "      <td>5985</td>\n",
       "      <td>2002</td>\n",
       "    </tr>\n",
       "    <tr>\n",
       "      <th>85</th>\n",
       "      <td>ago</td>\n",
       "      <td>6653</td>\n",
       "      <td>2003</td>\n",
       "    </tr>\n",
       "    <tr>\n",
       "      <th>86</th>\n",
       "      <td>ago</td>\n",
       "      <td>7304</td>\n",
       "      <td>2004</td>\n",
       "    </tr>\n",
       "    <tr>\n",
       "      <th>87</th>\n",
       "      <td>ago</td>\n",
       "      <td>7931</td>\n",
       "      <td>2005</td>\n",
       "    </tr>\n",
       "    <tr>\n",
       "      <th>88</th>\n",
       "      <td>ago</td>\n",
       "      <td>8523</td>\n",
       "      <td>2006</td>\n",
       "    </tr>\n",
       "    <tr>\n",
       "      <th>89</th>\n",
       "      <td>ago</td>\n",
       "      <td>9089</td>\n",
       "      <td>2007</td>\n",
       "    </tr>\n",
       "  </tbody>\n",
       "</table>\n",
       "</div>"
      ],
      "text/plain": [
       "    geo  tb_with_hivplus_number_of_new_cases_estimated  time\n",
       "72  ago                                            595  1990\n",
       "73  ago                                            772  1991\n",
       "74  ago                                            992  1992\n",
       "75  ago                                           1262  1993\n",
       "76  ago                                           1585  1994\n",
       "77  ago                                           1963  1995\n",
       "78  ago                                           2399  1996\n",
       "79  ago                                           2890  1997\n",
       "80  ago                                           3434  1998\n",
       "81  ago                                           4030  1999\n",
       "82  ago                                           4668  2000\n",
       "83  ago                                           5318  2001\n",
       "84  ago                                           5985  2002\n",
       "85  ago                                           6653  2003\n",
       "86  ago                                           7304  2004\n",
       "87  ago                                           7931  2005\n",
       "88  ago                                           8523  2006\n",
       "89  ago                                           9089  2007"
      ]
     },
     "execution_count": 73,
     "metadata": {},
     "output_type": "execute_result"
    }
   ],
   "source": [
    "ddf.ddf_datapoint('ddf--gapminder--systema_globalis', 'tb_with_hivplus_number_of_new_cases_estimated').query('geo== \"ago\"')"
   ]
  },
  {
   "cell_type": "code",
   "execution_count": null,
   "metadata": {
    "collapsed": true
   },
   "outputs": [],
   "source": []
  },
  {
   "cell_type": "code",
   "execution_count": null,
   "metadata": {
    "collapsed": true
   },
   "outputs": [],
   "source": []
  },
  {
   "cell_type": "code",
   "execution_count": null,
   "metadata": {
    "collapsed": true
   },
   "outputs": [],
   "source": []
  },
  {
   "cell_type": "code",
   "execution_count": 108,
   "metadata": {},
   "outputs": [
    {
     "data": {
      "text/plain": [
       "array(['Not applicable', 'Not available', 'No', 'Yes'], dtype=object)"
      ]
     },
     "execution_count": 108,
     "metadata": {},
     "output_type": "execute_result"
    }
   ],
   "source": [
    "df['Display Value'].unique()"
   ]
  },
  {
   "cell_type": "code",
   "execution_count": 119,
   "metadata": {},
   "outputs": [
    {
     "data": {
      "text/plain": [
       "False"
      ]
     },
     "execution_count": 119,
     "metadata": {},
     "output_type": "execute_result"
    }
   ],
   "source": [
    "np.all(df['Numeric'].isnull()) == True"
   ]
  },
  {
   "cell_type": "code",
   "execution_count": 120,
   "metadata": {},
   "outputs": [
    {
     "data": {
      "text/plain": [
       "array([  18.,   56.,   44.,   50.,   62.,   24.,   87.,   91.,   75.,\n",
       "         28.,   29.,   58.,   73.,   78.,   48.,   69.,   57.,   33.,\n",
       "         27.,   26.,   63.,   55.,   68.,   40.,   66.,   79.,   67.,\n",
       "         46.,   30.,   64.,   43.,   74.,  100.,   92.,   83.,   88.,\n",
       "         61.,   71.,   99.,   90.,   86.,   85.,   81.,   60.,   97.,\n",
       "         70.,   89.,   93.,   72.,   84.,   35.,   95.,   45.,   96.,\n",
       "         76.,    6.,   65.,   82.,   94.,   77.,   80.,   59.,   98.,\n",
       "         47.,   52.,   51.,   42.,   nan])"
      ]
     },
     "execution_count": 120,
     "metadata": {},
     "output_type": "execute_result"
    }
   ],
   "source": [
    "df['Numeric'].unique() # 所有indicator都是有numeric数据的。那display Value怎么储存？"
   ]
  },
  {
   "cell_type": "code",
   "execution_count": 85,
   "metadata": {},
   "outputs": [
    {
     "data": {
      "text/plain": [
       "Index(['concept', 'concept_type', 'description', 'length', 'data_key',\n",
       "       'data_type'],\n",
       "      dtype='object')"
      ]
     },
     "execution_count": 85,
     "metadata": {},
     "output_type": "execute_result"
    }
   ],
   "source": [
    "conc.columns"
   ]
  },
  {
   "cell_type": "code",
   "execution_count": 78,
   "metadata": {
    "collapsed": true
   },
   "outputs": [],
   "source": [
    "# data points"
   ]
  },
  {
   "cell_type": "code",
   "execution_count": 131,
   "metadata": {
    "collapsed": true
   },
   "outputs": [],
   "source": [
    "conc = pd.read_csv('all_indicators.csv')"
   ]
  },
  {
   "cell_type": "code",
   "execution_count": 132,
   "metadata": {
    "scrolled": true
   },
   "outputs": [],
   "source": [
    "for i, row in conc[(conc['length'] > 0) & (conc['data_key'] == 'country')].iterrows():\n",
    "    cid =  to_concept_id(row['concept'])\n",
    "    df = pd.read_csv(os.path.join('source', row['concept']+'.csv'))   \n",
    "    df.columns = list(map(to_concept_id, df.columns))    \n",
    "    path = os.path.join('../', 'ddf--datapoints--{}--by--country--year.csv'.format(cid))\n",
    "    \n",
    "    if 'year' not in df.columns:\n",
    "#         print(cid)\n",
    "        continue\n",
    "    \n",
    "    if row['data_type'] == 'number':\n",
    "        df = df[['country', 'year', 'numeric']]\n",
    "    else:\n",
    "        df = df[['country', 'year', 'display_value']]\n",
    "        \n",
    "    df.columns = [['country', 'year', cid]]\n",
    "    \n",
    "    df.sort_values(by=['country', 'year']).dropna(how='any').to_csv(path, index=False)\n",
    "    "
   ]
  },
  {
   "cell_type": "code",
   "execution_count": 89,
   "metadata": {
    "collapsed": true
   },
   "outputs": [],
   "source": [
    "conc['concept'] = conc['concept'].map(to_concept_id)"
   ]
  },
  {
   "cell_type": "code",
   "execution_count": null,
   "metadata": {
    "collapsed": true
   },
   "outputs": [],
   "source": [
    "conc.query()"
   ]
  },
  {
   "cell_type": "code",
   "execution_count": null,
   "metadata": {
    "collapsed": true
   },
   "outputs": [],
   "source": []
  },
  {
   "cell_type": "code",
   "execution_count": 90,
   "metadata": {
    "collapsed": true
   },
   "outputs": [],
   "source": [
    "# country"
   ]
  },
  {
   "cell_type": "code",
   "execution_count": 91,
   "metadata": {
    "collapsed": true
   },
   "outputs": [],
   "source": [
    "c_url = 'http://apps.who.int/gho/athena/api/COUNTRY'\n",
    "\n",
    "cr = requests.get(c_url)"
   ]
  },
  {
   "cell_type": "code",
   "execution_count": 93,
   "metadata": {},
   "outputs": [],
   "source": [
    "cp = xmltodict.parse(cr.content)"
   ]
  },
  {
   "cell_type": "code",
   "execution_count": 112,
   "metadata": {},
   "outputs": [],
   "source": [
    "c = {}\n",
    "\n",
    "for i in cp['GHO']['Metadata']['Dimension']['Code']:\n",
    "    \n",
    "    attrs = i['Attr']\n",
    "    \n",
    "    c[i['@Label']] = dict([(attr['@Category'], attr['Value']['Display']) for attr in attrs])"
   ]
  },
  {
   "cell_type": "code",
   "execution_count": 113,
   "metadata": {},
   "outputs": [],
   "source": [
    "cdf = pd.DataFrame.from_dict(c, orient='index')"
   ]
  },
  {
   "cell_type": "code",
   "execution_count": 116,
   "metadata": {
    "scrolled": true
   },
   "outputs": [],
   "source": [
    "cdf.index.name = 'country'\n",
    "\n",
    "cdf.reset_index().to_csv('all_countries.csv', index=False)"
   ]
  },
  {
   "cell_type": "code",
   "execution_count": 117,
   "metadata": {
    "collapsed": true
   },
   "outputs": [],
   "source": [
    "cdf = cdf.reset_index()"
   ]
  },
  {
   "cell_type": "code",
   "execution_count": 118,
   "metadata": {
    "collapsed": true
   },
   "outputs": [],
   "source": [
    "!open ."
   ]
  },
  {
   "cell_type": "code",
   "execution_count": 152,
   "metadata": {},
   "outputs": [],
   "source": [
    "cdf[['country', 'SHORTNAMEES']].rename(columns={'SHORTNAMEES': 'name'}).to_csv('../ddf--entities--country.csv', index=False)"
   ]
  },
  {
   "cell_type": "code",
   "execution_count": null,
   "metadata": {
    "collapsed": true
   },
   "outputs": [],
   "source": []
  },
  {
   "cell_type": "code",
   "execution_count": 121,
   "metadata": {
    "collapsed": true
   },
   "outputs": [],
   "source": [
    "# concepts"
   ]
  },
  {
   "cell_type": "code",
   "execution_count": 123,
   "metadata": {
    "collapsed": true
   },
   "outputs": [],
   "source": [
    "not_conc = [\"m_survey_title_adult\",\n",
    "\"m_svy_national_adult\",\n",
    "\"m_svy_age_adult\",\n",
    "\"m_def_1_text_adult\",\n",
    "\"m_def_1_prev_adult\",\n",
    "\"m_def_2_text_adult\",\n",
    "\"m_def_2_prev_adult\",\n",
    "\"m_smkless_survey_title_adult\",\n",
    "\"m_smkless_svy_national_adult\",\n",
    "\"m_smkless_age_range_adult\",\n",
    "\"m_smkless_def_text_adult\",\n",
    "\"m_smkless_prev_adult\",\n",
    "\"m_survey_title_youth\",\n",
    "\"m_svy_national_youth\",\n",
    "\"m_svy_age_youth\",\n",
    "\"m_def_1_text_youth\",\n",
    "\"m_def_1_prev_youth\",\n",
    "\"m_def_2_text_youth\",\n",
    "\"m_def_2_prev_youth\",\n",
    "\"m_smkless_survey_title_youth\",\n",
    "\"m_smkless_svy_national_youth\",\n",
    "\"m_smkless_age_range_youth\",\n",
    "\"m_smkless_def_text_youth\",\n",
    "\"m_smkless_prev_youth\",\n",
    "\"camp_nat\",\n",
    "\"camp_gov_prog\",\n",
    "\"camp_mat_tested\",\n",
    "\"camp_aud_research\",\n",
    "\"camp_tv_radio\",\n",
    "\"camp_media_planning\",\n",
    "\"camp_news\",\n",
    "\"camp_airtime\",\n",
    "\"camp_eval_impact\",\n",
    "\"rev_type\",\n",
    "\"rev_year\",\n",
    "\"rev_curr\",\n",
    "\"rev_excise\",\n",
    "\"rev_vat\",\n",
    "\"rev_imp_other\",\n",
    "\"rev_govt_total\",\n",
    "\"r_excise_type\",\n",
    "\"r_excise_uniform_varied\",\n",
    "\"r_excise_specific_reliance\",\n",
    "\"r_excise_min_specific\",\n",
    "\"r_excise_retail_price_base\",\n",
    "\"r_afford_less\",\n",
    "\"r_afford_tax_auto_adjust\",\n",
    "\"r_admin_tax_stamps\",\n",
    "\"r_admin_duty_free_limited\",\n",
    "\"r_admin_duty_free_allowance\",\n",
    "\"r_excise_proportion\",\n",
    "\"r_afford_gdp\",\n",
    "\"r_afford_price_dispersion\"]"
   ]
  },
  {
   "cell_type": "code",
   "execution_count": 136,
   "metadata": {
    "collapsed": true
   },
   "outputs": [],
   "source": [
    "conc_ = conc.copy()\n",
    "\n",
    "conc_['concept'] = conc_['concept'].map(to_concept_id)"
   ]
  },
  {
   "cell_type": "code",
   "execution_count": 137,
   "metadata": {},
   "outputs": [],
   "source": [
    "conc_ = conc_.query('concept not in {}'.format(not_conc))"
   ]
  },
  {
   "cell_type": "code",
   "execution_count": 138,
   "metadata": {
    "collapsed": true
   },
   "outputs": [],
   "source": [
    "conc_ = conc_.query('length > 0')"
   ]
  },
  {
   "cell_type": "code",
   "execution_count": 145,
   "metadata": {},
   "outputs": [],
   "source": [
    "condf = conc_[['concept', 'concept_type', 'description']]"
   ]
  },
  {
   "cell_type": "code",
   "execution_count": 146,
   "metadata": {},
   "outputs": [],
   "source": [
    "condf = condf.rename(columns={'description': 'name'})"
   ]
  },
  {
   "cell_type": "code",
   "execution_count": 147,
   "metadata": {
    "collapsed": true
   },
   "outputs": [],
   "source": [
    "condf = condf.append(pd.DataFrame([['name', 'string', 'Name'], \n",
    "                                   ['year', 'time', 'Year'], \n",
    "                                   ['country', 'entity_domain', 'Country']], columns=condf.columns))"
   ]
  },
  {
   "cell_type": "code",
   "execution_count": 149,
   "metadata": {},
   "outputs": [],
   "source": [
    "condf.to_csv('../ddf--concepts.csv', index=False)"
   ]
  },
  {
   "cell_type": "code",
   "execution_count": 150,
   "metadata": {
    "collapsed": true
   },
   "outputs": [],
   "source": [
    "from ddf_utils.index import create_index_file"
   ]
  },
  {
   "cell_type": "code",
   "execution_count": 153,
   "metadata": {},
   "outputs": [
    {
     "data": {
      "text/html": [
       "<div>\n",
       "<table border=\"1\" class=\"dataframe\">\n",
       "  <thead>\n",
       "    <tr style=\"text-align: right;\">\n",
       "      <th></th>\n",
       "      <th>key</th>\n",
       "      <th>value</th>\n",
       "      <th>file</th>\n",
       "    </tr>\n",
       "  </thead>\n",
       "  <tbody>\n",
       "    <tr>\n",
       "      <th>0</th>\n",
       "      <td>concept</td>\n",
       "      <td>concept_type</td>\n",
       "      <td>ddf--concepts.csv</td>\n",
       "    </tr>\n",
       "    <tr>\n",
       "      <th>1</th>\n",
       "      <td>concept</td>\n",
       "      <td>name</td>\n",
       "      <td>ddf--concepts.csv</td>\n",
       "    </tr>\n",
       "    <tr>\n",
       "      <th>0</th>\n",
       "      <td>country,year</td>\n",
       "      <td>air_1</td>\n",
       "      <td>ddf--datapoints--air_1--by--country--year.csv</td>\n",
       "    </tr>\n",
       "    <tr>\n",
       "      <th>0</th>\n",
       "      <td>country,year</td>\n",
       "      <td>air_10</td>\n",
       "      <td>ddf--datapoints--air_10--by--country--year.csv</td>\n",
       "    </tr>\n",
       "    <tr>\n",
       "      <th>0</th>\n",
       "      <td>country,year</td>\n",
       "      <td>air_11</td>\n",
       "      <td>ddf--datapoints--air_11--by--country--year.csv</td>\n",
       "    </tr>\n",
       "    <tr>\n",
       "      <th>0</th>\n",
       "      <td>country,year</td>\n",
       "      <td>air_12</td>\n",
       "      <td>ddf--datapoints--air_12--by--country--year.csv</td>\n",
       "    </tr>\n",
       "    <tr>\n",
       "      <th>0</th>\n",
       "      <td>country,year</td>\n",
       "      <td>air_13</td>\n",
       "      <td>ddf--datapoints--air_13--by--country--year.csv</td>\n",
       "    </tr>\n",
       "    <tr>\n",
       "      <th>0</th>\n",
       "      <td>country,year</td>\n",
       "      <td>air_14</td>\n",
       "      <td>ddf--datapoints--air_14--by--country--year.csv</td>\n",
       "    </tr>\n",
       "    <tr>\n",
       "      <th>0</th>\n",
       "      <td>country,year</td>\n",
       "      <td>air_15</td>\n",
       "      <td>ddf--datapoints--air_15--by--country--year.csv</td>\n",
       "    </tr>\n",
       "    <tr>\n",
       "      <th>0</th>\n",
       "      <td>country,year</td>\n",
       "      <td>air_16</td>\n",
       "      <td>ddf--datapoints--air_16--by--country--year.csv</td>\n",
       "    </tr>\n",
       "    <tr>\n",
       "      <th>0</th>\n",
       "      <td>country,year</td>\n",
       "      <td>air_17</td>\n",
       "      <td>ddf--datapoints--air_17--by--country--year.csv</td>\n",
       "    </tr>\n",
       "    <tr>\n",
       "      <th>0</th>\n",
       "      <td>country,year</td>\n",
       "      <td>air_18</td>\n",
       "      <td>ddf--datapoints--air_18--by--country--year.csv</td>\n",
       "    </tr>\n",
       "    <tr>\n",
       "      <th>0</th>\n",
       "      <td>country,year</td>\n",
       "      <td>air_2</td>\n",
       "      <td>ddf--datapoints--air_2--by--country--year.csv</td>\n",
       "    </tr>\n",
       "    <tr>\n",
       "      <th>0</th>\n",
       "      <td>country,year</td>\n",
       "      <td>air_2_1</td>\n",
       "      <td>ddf--datapoints--air_2_1--by--country--year.csv</td>\n",
       "    </tr>\n",
       "    <tr>\n",
       "      <th>0</th>\n",
       "      <td>country,year</td>\n",
       "      <td>air_3</td>\n",
       "      <td>ddf--datapoints--air_3--by--country--year.csv</td>\n",
       "    </tr>\n",
       "    <tr>\n",
       "      <th>0</th>\n",
       "      <td>country,year</td>\n",
       "      <td>air_3_1</td>\n",
       "      <td>ddf--datapoints--air_3_1--by--country--year.csv</td>\n",
       "    </tr>\n",
       "    <tr>\n",
       "      <th>0</th>\n",
       "      <td>country,year</td>\n",
       "      <td>air_4</td>\n",
       "      <td>ddf--datapoints--air_4--by--country--year.csv</td>\n",
       "    </tr>\n",
       "    <tr>\n",
       "      <th>0</th>\n",
       "      <td>country,year</td>\n",
       "      <td>air_40</td>\n",
       "      <td>ddf--datapoints--air_40--by--country--year.csv</td>\n",
       "    </tr>\n",
       "    <tr>\n",
       "      <th>0</th>\n",
       "      <td>country,year</td>\n",
       "      <td>air_5</td>\n",
       "      <td>ddf--datapoints--air_5--by--country--year.csv</td>\n",
       "    </tr>\n",
       "    <tr>\n",
       "      <th>0</th>\n",
       "      <td>country,year</td>\n",
       "      <td>air_6</td>\n",
       "      <td>ddf--datapoints--air_6--by--country--year.csv</td>\n",
       "    </tr>\n",
       "    <tr>\n",
       "      <th>0</th>\n",
       "      <td>country,year</td>\n",
       "      <td>air_7</td>\n",
       "      <td>ddf--datapoints--air_7--by--country--year.csv</td>\n",
       "    </tr>\n",
       "    <tr>\n",
       "      <th>0</th>\n",
       "      <td>country,year</td>\n",
       "      <td>air_8</td>\n",
       "      <td>ddf--datapoints--air_8--by--country--year.csv</td>\n",
       "    </tr>\n",
       "    <tr>\n",
       "      <th>0</th>\n",
       "      <td>country,year</td>\n",
       "      <td>air_9</td>\n",
       "      <td>ddf--datapoints--air_9--by--country--year.csv</td>\n",
       "    </tr>\n",
       "    <tr>\n",
       "      <th>0</th>\n",
       "      <td>country,year</td>\n",
       "      <td>anc1</td>\n",
       "      <td>ddf--datapoints--anc1--by--country--year.csv</td>\n",
       "    </tr>\n",
       "    <tr>\n",
       "      <th>0</th>\n",
       "      <td>country,year</td>\n",
       "      <td>anc15</td>\n",
       "      <td>ddf--datapoints--anc15--by--country--year.csv</td>\n",
       "    </tr>\n",
       "    <tr>\n",
       "      <th>0</th>\n",
       "      <td>country,year</td>\n",
       "      <td>anc4</td>\n",
       "      <td>ddf--datapoints--anc4--by--country--year.csv</td>\n",
       "    </tr>\n",
       "    <tr>\n",
       "      <th>0</th>\n",
       "      <td>country,year</td>\n",
       "      <td>anc45</td>\n",
       "      <td>ddf--datapoints--anc45--by--country--year.csv</td>\n",
       "    </tr>\n",
       "    <tr>\n",
       "      <th>0</th>\n",
       "      <td>country,year</td>\n",
       "      <td>asfr1</td>\n",
       "      <td>ddf--datapoints--asfr1--by--country--year.csv</td>\n",
       "    </tr>\n",
       "    <tr>\n",
       "      <th>0</th>\n",
       "      <td>country,year</td>\n",
       "      <td>bcgv</td>\n",
       "      <td>ddf--datapoints--bcgv--by--country--year.csv</td>\n",
       "    </tr>\n",
       "    <tr>\n",
       "      <th>0</th>\n",
       "      <td>country,year</td>\n",
       "      <td>bp_03</td>\n",
       "      <td>ddf--datapoints--bp_03--by--country--year.csv</td>\n",
       "    </tr>\n",
       "    <tr>\n",
       "      <th>...</th>\n",
       "      <td>...</td>\n",
       "      <td>...</td>\n",
       "      <td>...</td>\n",
       "    </tr>\n",
       "    <tr>\n",
       "      <th>0</th>\n",
       "      <td>country,year</td>\n",
       "      <td>whs7_147</td>\n",
       "      <td>ddf--datapoints--whs7_147--by--country--year.csv</td>\n",
       "    </tr>\n",
       "    <tr>\n",
       "      <th>0</th>\n",
       "      <td>country,year</td>\n",
       "      <td>whs7_149</td>\n",
       "      <td>ddf--datapoints--whs7_149--by--country--year.csv</td>\n",
       "    </tr>\n",
       "    <tr>\n",
       "      <th>0</th>\n",
       "      <td>country,year</td>\n",
       "      <td>whs7_150</td>\n",
       "      <td>ddf--datapoints--whs7_150--by--country--year.csv</td>\n",
       "    </tr>\n",
       "    <tr>\n",
       "      <th>0</th>\n",
       "      <td>country,year</td>\n",
       "      <td>whs7_156</td>\n",
       "      <td>ddf--datapoints--whs7_156--by--country--year.csv</td>\n",
       "    </tr>\n",
       "    <tr>\n",
       "      <th>0</th>\n",
       "      <td>country,year</td>\n",
       "      <td>whs8_110</td>\n",
       "      <td>ddf--datapoints--whs8_110--by--country--year.csv</td>\n",
       "    </tr>\n",
       "    <tr>\n",
       "      <th>0</th>\n",
       "      <td>country,year</td>\n",
       "      <td>whs9_85</td>\n",
       "      <td>ddf--datapoints--whs9_85--by--country--year.csv</td>\n",
       "    </tr>\n",
       "    <tr>\n",
       "      <th>0</th>\n",
       "      <td>country,year</td>\n",
       "      <td>whs9_86</td>\n",
       "      <td>ddf--datapoints--whs9_86--by--country--year.csv</td>\n",
       "    </tr>\n",
       "    <tr>\n",
       "      <th>0</th>\n",
       "      <td>country,year</td>\n",
       "      <td>whs9_87</td>\n",
       "      <td>ddf--datapoints--whs9_87--by--country--year.csv</td>\n",
       "    </tr>\n",
       "    <tr>\n",
       "      <th>0</th>\n",
       "      <td>country,year</td>\n",
       "      <td>whs9_88</td>\n",
       "      <td>ddf--datapoints--whs9_88--by--country--year.csv</td>\n",
       "    </tr>\n",
       "    <tr>\n",
       "      <th>0</th>\n",
       "      <td>country,year</td>\n",
       "      <td>whs9_89</td>\n",
       "      <td>ddf--datapoints--whs9_89--by--country--year.csv</td>\n",
       "    </tr>\n",
       "    <tr>\n",
       "      <th>0</th>\n",
       "      <td>country,year</td>\n",
       "      <td>whs9_90</td>\n",
       "      <td>ddf--datapoints--whs9_90--by--country--year.csv</td>\n",
       "    </tr>\n",
       "    <tr>\n",
       "      <th>0</th>\n",
       "      <td>country,year</td>\n",
       "      <td>whs9_91</td>\n",
       "      <td>ddf--datapoints--whs9_91--by--country--year.csv</td>\n",
       "    </tr>\n",
       "    <tr>\n",
       "      <th>0</th>\n",
       "      <td>country,year</td>\n",
       "      <td>whs9_92</td>\n",
       "      <td>ddf--datapoints--whs9_92--by--country--year.csv</td>\n",
       "    </tr>\n",
       "    <tr>\n",
       "      <th>0</th>\n",
       "      <td>country,year</td>\n",
       "      <td>whs9_93</td>\n",
       "      <td>ddf--datapoints--whs9_93--by--country--year.csv</td>\n",
       "    </tr>\n",
       "    <tr>\n",
       "      <th>0</th>\n",
       "      <td>country,year</td>\n",
       "      <td>whs9_94</td>\n",
       "      <td>ddf--datapoints--whs9_94--by--country--year.csv</td>\n",
       "    </tr>\n",
       "    <tr>\n",
       "      <th>0</th>\n",
       "      <td>country,year</td>\n",
       "      <td>whs9_95</td>\n",
       "      <td>ddf--datapoints--whs9_95--by--country--year.csv</td>\n",
       "    </tr>\n",
       "    <tr>\n",
       "      <th>0</th>\n",
       "      <td>country,year</td>\n",
       "      <td>whs9_96</td>\n",
       "      <td>ddf--datapoints--whs9_96--by--country--year.csv</td>\n",
       "    </tr>\n",
       "    <tr>\n",
       "      <th>0</th>\n",
       "      <td>country,year</td>\n",
       "      <td>whs9_97</td>\n",
       "      <td>ddf--datapoints--whs9_97--by--country--year.csv</td>\n",
       "    </tr>\n",
       "    <tr>\n",
       "      <th>0</th>\n",
       "      <td>country,year</td>\n",
       "      <td>whs9_cdr</td>\n",
       "      <td>ddf--datapoints--whs9_cdr--by--country--year.csv</td>\n",
       "    </tr>\n",
       "    <tr>\n",
       "      <th>0</th>\n",
       "      <td>country,year</td>\n",
       "      <td>whs9_cs</td>\n",
       "      <td>ddf--datapoints--whs9_cs--by--country--year.csv</td>\n",
       "    </tr>\n",
       "    <tr>\n",
       "      <th>0</th>\n",
       "      <td>country,year</td>\n",
       "      <td>whs_pbr</td>\n",
       "      <td>ddf--datapoints--whs_pbr--by--country--year.csv</td>\n",
       "    </tr>\n",
       "    <tr>\n",
       "      <th>0</th>\n",
       "      <td>country,year</td>\n",
       "      <td>wsh_1</td>\n",
       "      <td>ddf--datapoints--wsh_1--by--country--year.csv</td>\n",
       "    </tr>\n",
       "    <tr>\n",
       "      <th>0</th>\n",
       "      <td>country,year</td>\n",
       "      <td>wsh_2</td>\n",
       "      <td>ddf--datapoints--wsh_2--by--country--year.csv</td>\n",
       "    </tr>\n",
       "    <tr>\n",
       "      <th>0</th>\n",
       "      <td>country,year</td>\n",
       "      <td>wsh_3</td>\n",
       "      <td>ddf--datapoints--wsh_3--by--country--year.csv</td>\n",
       "    </tr>\n",
       "    <tr>\n",
       "      <th>0</th>\n",
       "      <td>country,year</td>\n",
       "      <td>wsh_4</td>\n",
       "      <td>ddf--datapoints--wsh_4--by--country--year.csv</td>\n",
       "    </tr>\n",
       "    <tr>\n",
       "      <th>0</th>\n",
       "      <td>country,year</td>\n",
       "      <td>wsh_5</td>\n",
       "      <td>ddf--datapoints--wsh_5--by--country--year.csv</td>\n",
       "    </tr>\n",
       "    <tr>\n",
       "      <th>0</th>\n",
       "      <td>country,year</td>\n",
       "      <td>wsh_6</td>\n",
       "      <td>ddf--datapoints--wsh_6--by--country--year.csv</td>\n",
       "    </tr>\n",
       "    <tr>\n",
       "      <th>0</th>\n",
       "      <td>country,year</td>\n",
       "      <td>wsh_7</td>\n",
       "      <td>ddf--datapoints--wsh_7--by--country--year.csv</td>\n",
       "    </tr>\n",
       "    <tr>\n",
       "      <th>0</th>\n",
       "      <td>country,year</td>\n",
       "      <td>wsh_8</td>\n",
       "      <td>ddf--datapoints--wsh_8--by--country--year.csv</td>\n",
       "    </tr>\n",
       "    <tr>\n",
       "      <th>0</th>\n",
       "      <td>country</td>\n",
       "      <td>name</td>\n",
       "      <td>ddf--entities--country.csv</td>\n",
       "    </tr>\n",
       "  </tbody>\n",
       "</table>\n",
       "<p>1248 rows × 3 columns</p>\n",
       "</div>"
      ],
      "text/plain": [
       "             key         value  \\\n",
       "0        concept  concept_type   \n",
       "1        concept          name   \n",
       "0   country,year         air_1   \n",
       "0   country,year        air_10   \n",
       "0   country,year        air_11   \n",
       "0   country,year        air_12   \n",
       "0   country,year        air_13   \n",
       "0   country,year        air_14   \n",
       "0   country,year        air_15   \n",
       "0   country,year        air_16   \n",
       "0   country,year        air_17   \n",
       "0   country,year        air_18   \n",
       "0   country,year         air_2   \n",
       "0   country,year       air_2_1   \n",
       "0   country,year         air_3   \n",
       "0   country,year       air_3_1   \n",
       "0   country,year         air_4   \n",
       "0   country,year        air_40   \n",
       "0   country,year         air_5   \n",
       "0   country,year         air_6   \n",
       "0   country,year         air_7   \n",
       "0   country,year         air_8   \n",
       "0   country,year         air_9   \n",
       "0   country,year          anc1   \n",
       "0   country,year         anc15   \n",
       "0   country,year          anc4   \n",
       "0   country,year         anc45   \n",
       "0   country,year         asfr1   \n",
       "0   country,year          bcgv   \n",
       "0   country,year         bp_03   \n",
       "..           ...           ...   \n",
       "0   country,year      whs7_147   \n",
       "0   country,year      whs7_149   \n",
       "0   country,year      whs7_150   \n",
       "0   country,year      whs7_156   \n",
       "0   country,year      whs8_110   \n",
       "0   country,year       whs9_85   \n",
       "0   country,year       whs9_86   \n",
       "0   country,year       whs9_87   \n",
       "0   country,year       whs9_88   \n",
       "0   country,year       whs9_89   \n",
       "0   country,year       whs9_90   \n",
       "0   country,year       whs9_91   \n",
       "0   country,year       whs9_92   \n",
       "0   country,year       whs9_93   \n",
       "0   country,year       whs9_94   \n",
       "0   country,year       whs9_95   \n",
       "0   country,year       whs9_96   \n",
       "0   country,year       whs9_97   \n",
       "0   country,year      whs9_cdr   \n",
       "0   country,year       whs9_cs   \n",
       "0   country,year       whs_pbr   \n",
       "0   country,year         wsh_1   \n",
       "0   country,year         wsh_2   \n",
       "0   country,year         wsh_3   \n",
       "0   country,year         wsh_4   \n",
       "0   country,year         wsh_5   \n",
       "0   country,year         wsh_6   \n",
       "0   country,year         wsh_7   \n",
       "0   country,year         wsh_8   \n",
       "0        country          name   \n",
       "\n",
       "                                                file  \n",
       "0                                  ddf--concepts.csv  \n",
       "1                                  ddf--concepts.csv  \n",
       "0      ddf--datapoints--air_1--by--country--year.csv  \n",
       "0     ddf--datapoints--air_10--by--country--year.csv  \n",
       "0     ddf--datapoints--air_11--by--country--year.csv  \n",
       "0     ddf--datapoints--air_12--by--country--year.csv  \n",
       "0     ddf--datapoints--air_13--by--country--year.csv  \n",
       "0     ddf--datapoints--air_14--by--country--year.csv  \n",
       "0     ddf--datapoints--air_15--by--country--year.csv  \n",
       "0     ddf--datapoints--air_16--by--country--year.csv  \n",
       "0     ddf--datapoints--air_17--by--country--year.csv  \n",
       "0     ddf--datapoints--air_18--by--country--year.csv  \n",
       "0      ddf--datapoints--air_2--by--country--year.csv  \n",
       "0    ddf--datapoints--air_2_1--by--country--year.csv  \n",
       "0      ddf--datapoints--air_3--by--country--year.csv  \n",
       "0    ddf--datapoints--air_3_1--by--country--year.csv  \n",
       "0      ddf--datapoints--air_4--by--country--year.csv  \n",
       "0     ddf--datapoints--air_40--by--country--year.csv  \n",
       "0      ddf--datapoints--air_5--by--country--year.csv  \n",
       "0      ddf--datapoints--air_6--by--country--year.csv  \n",
       "0      ddf--datapoints--air_7--by--country--year.csv  \n",
       "0      ddf--datapoints--air_8--by--country--year.csv  \n",
       "0      ddf--datapoints--air_9--by--country--year.csv  \n",
       "0       ddf--datapoints--anc1--by--country--year.csv  \n",
       "0      ddf--datapoints--anc15--by--country--year.csv  \n",
       "0       ddf--datapoints--anc4--by--country--year.csv  \n",
       "0      ddf--datapoints--anc45--by--country--year.csv  \n",
       "0      ddf--datapoints--asfr1--by--country--year.csv  \n",
       "0       ddf--datapoints--bcgv--by--country--year.csv  \n",
       "0      ddf--datapoints--bp_03--by--country--year.csv  \n",
       "..                                               ...  \n",
       "0   ddf--datapoints--whs7_147--by--country--year.csv  \n",
       "0   ddf--datapoints--whs7_149--by--country--year.csv  \n",
       "0   ddf--datapoints--whs7_150--by--country--year.csv  \n",
       "0   ddf--datapoints--whs7_156--by--country--year.csv  \n",
       "0   ddf--datapoints--whs8_110--by--country--year.csv  \n",
       "0    ddf--datapoints--whs9_85--by--country--year.csv  \n",
       "0    ddf--datapoints--whs9_86--by--country--year.csv  \n",
       "0    ddf--datapoints--whs9_87--by--country--year.csv  \n",
       "0    ddf--datapoints--whs9_88--by--country--year.csv  \n",
       "0    ddf--datapoints--whs9_89--by--country--year.csv  \n",
       "0    ddf--datapoints--whs9_90--by--country--year.csv  \n",
       "0    ddf--datapoints--whs9_91--by--country--year.csv  \n",
       "0    ddf--datapoints--whs9_92--by--country--year.csv  \n",
       "0    ddf--datapoints--whs9_93--by--country--year.csv  \n",
       "0    ddf--datapoints--whs9_94--by--country--year.csv  \n",
       "0    ddf--datapoints--whs9_95--by--country--year.csv  \n",
       "0    ddf--datapoints--whs9_96--by--country--year.csv  \n",
       "0    ddf--datapoints--whs9_97--by--country--year.csv  \n",
       "0   ddf--datapoints--whs9_cdr--by--country--year.csv  \n",
       "0    ddf--datapoints--whs9_cs--by--country--year.csv  \n",
       "0    ddf--datapoints--whs_pbr--by--country--year.csv  \n",
       "0      ddf--datapoints--wsh_1--by--country--year.csv  \n",
       "0      ddf--datapoints--wsh_2--by--country--year.csv  \n",
       "0      ddf--datapoints--wsh_3--by--country--year.csv  \n",
       "0      ddf--datapoints--wsh_4--by--country--year.csv  \n",
       "0      ddf--datapoints--wsh_5--by--country--year.csv  \n",
       "0      ddf--datapoints--wsh_6--by--country--year.csv  \n",
       "0      ddf--datapoints--wsh_7--by--country--year.csv  \n",
       "0      ddf--datapoints--wsh_8--by--country--year.csv  \n",
       "0                         ddf--entities--country.csv  \n",
       "\n",
       "[1248 rows x 3 columns]"
      ]
     },
     "execution_count": 153,
     "metadata": {},
     "output_type": "execute_result"
    }
   ],
   "source": [
    "create_index_file('../')"
   ]
  },
  {
   "cell_type": "code",
   "execution_count": null,
   "metadata": {
    "collapsed": true
   },
   "outputs": [],
   "source": []
  },
  {
   "cell_type": "code",
   "execution_count": null,
   "metadata": {
    "collapsed": true
   },
   "outputs": [],
   "source": []
  },
  {
   "cell_type": "markdown",
   "metadata": {},
   "source": [
    "## script"
   ]
  },
  {
   "cell_type": "code",
   "execution_count": 170,
   "metadata": {
    "collapsed": true
   },
   "outputs": [],
   "source": [
    "import pycurl"
   ]
  },
  {
   "cell_type": "code",
   "execution_count": 171,
   "metadata": {
    "collapsed": true
   },
   "outputs": [],
   "source": [
    "air6 = 'http://apps.who.int/gho/athena/api/GHO/{}.csv'.format('MORT_100')"
   ]
  },
  {
   "cell_type": "code",
   "execution_count": 173,
   "metadata": {},
   "outputs": [
    {
     "data": {
      "text/plain": [
       "'http://apps.who.int/gho/athena/api/GHO/MORT_100.csv'"
      ]
     },
     "execution_count": 173,
     "metadata": {},
     "output_type": "execute_result"
    }
   ],
   "source": [
    "air6"
   ]
  },
  {
   "cell_type": "code",
   "execution_count": null,
   "metadata": {
    "collapsed": true
   },
   "outputs": [],
   "source": [
    "with open('test.csv', 'wb') as f:\n",
    "    c = pycurl.Curl()\n",
    "    c.setopt(c.URL, air6)\n",
    "    c.setopt(c.FOLLOWLOCATION, True)\n",
    "    c.setopt(c.WRITEDATA, f)\n",
    "    c.perform()\n",
    "    c.close()"
   ]
  },
  {
   "cell_type": "code",
   "execution_count": 167,
   "metadata": {
    "collapsed": true
   },
   "outputs": [],
   "source": [
    "r = requests.get(air6)"
   ]
  },
  {
   "cell_type": "code",
   "execution_count": 161,
   "metadata": {},
   "outputs": [],
   "source": [
    "with open('source/AIR_6.csv', 'w') as f:\n",
    "    f.write(r.text)"
   ]
  },
  {
   "cell_type": "code",
   "execution_count": 169,
   "metadata": {},
   "outputs": [
    {
     "data": {
      "text/plain": [
       "'<html>\\n<head>\\n<meta http-equiv=\"X-UA-Compatible\" content=\"IE=edge\" />\\n  <meta http-equiv=\"refresh\" content=\"0;url=en/\">\\n</head>\\n</html>\\n'"
      ]
     },
     "execution_count": 169,
     "metadata": {},
     "output_type": "execute_result"
    }
   ],
   "source": [
    "r.text"
   ]
  },
  {
   "cell_type": "code",
   "execution_count": null,
   "metadata": {
    "collapsed": true
   },
   "outputs": [],
   "source": [
    "requests.get?"
   ]
  }
 ],
 "metadata": {
  "kernelspec": {
   "display_name": "Python 3",
   "language": "python",
   "name": "python3"
  },
  "language_info": {
   "codemirror_mode": {
    "name": "ipython",
    "version": 3
   },
   "file_extension": ".py",
   "mimetype": "text/x-python",
   "name": "python",
   "nbconvert_exporter": "python",
   "pygments_lexer": "ipython3",
   "version": "3.6.5"
  }
 },
 "nbformat": 4,
 "nbformat_minor": 1
}
